{
  "nbformat": 4,
  "nbformat_minor": 0,
  "metadata": {
    "colab": {
      "provenance": [],
      "authorship_tag": "ABX9TyP+366ovRf/NRPWAtqBZDNJ",
      "include_colab_link": true
    },
    "kernelspec": {
      "name": "python3",
      "display_name": "Python 3"
    },
    "language_info": {
      "name": "python"
    }
  },
  "cells": [
    {
      "cell_type": "markdown",
      "metadata": {
        "id": "view-in-github",
        "colab_type": "text"
      },
      "source": [
        "<a href=\"https://colab.research.google.com/github/lviniciuz/Aula-Junio/blob/main/Aula_Pablo_20_04_23.ipynb\" target=\"_parent\"><img src=\"https://colab.research.google.com/assets/colab-badge.svg\" alt=\"Open In Colab\"/></a>"
      ]
    },
    {
      "cell_type": "code",
      "execution_count": null,
      "metadata": {
        "id": "edDODeHFukOB"
      },
      "outputs": [],
      "source": [
        "#joguinho para adivinhação\n",
        "import random\n",
        "\n",
        "num = random.randrange(101)\n",
        "minimo = 0\n",
        "maximo = 100\n",
        "pitaco = int(input(f'Chute um número entre {minimo} e {maximo}: '))\n",
        "cont = 1\n",
        "\n",
        "while(num!= pitaco):\n",
        "  if (pitaco > num):\n",
        "    maximo = pitaco\n",
        "  else:\n",
        "    minimo = pitaco\n",
        "  pitaco = int(input(f'Chute um número entre {minimo} e {maximo}: '))\n",
        "  cont+=1\n",
        "\n",
        "print(f'ACERTOU, MIZERAVI! {cont} tentativas!')"
      ]
    },
    {
      "cell_type": "code",
      "source": [
        "#declaraçao da função\n",
        "def primeiraFuncao():\n",
        "  print('Minha primeira função! ')\n",
        "\n",
        "#chamando a função\n",
        "primeiraFuncao()"
      ],
      "metadata": {
        "id": "mn-U7f9l2666"
      },
      "execution_count": null,
      "outputs": []
    },
    {
      "cell_type": "code",
      "source": [
        "def pronomeTratam(pronome):\n",
        "  print(pronome, \"Lucas\")\n",
        "\n",
        "pronomeTratam('Doutor')\n",
        "pronomeTratam('Ilmo')\n",
        "pronomeTratam('Seu')\n"
      ],
      "metadata": {
        "id": "LRxYNPR_4DDi"
      },
      "execution_count": null,
      "outputs": []
    },
    {
      "cell_type": "code",
      "source": [
        "#Uma função deve ser chamada com o nome e o cargo\n",
        "def boasVindas(nome, cargo):\n",
        "  print(f'Olá, {nome}, {cargo}')\n",
        "\n",
        "boasVindas('Julia', 'Médica')\n",
        "boasVindas('Mario', 'engenheiro')\n",
        "boasVindas('Fernanda', 'medico')"
      ],
      "metadata": {
        "id": "YD68kJnj50j0"
      },
      "execution_count": null,
      "outputs": []
    },
    {
      "cell_type": "code",
      "source": [
        "def funcaoSemNome(nome, anoNascim):\n",
        "  idade = 2023 - anoNascim\n",
        "  print(nome, idade)"
      ],
      "metadata": {
        "id": "QBqiN1dl8BB-"
      },
      "execution_count": 64,
      "outputs": []
    },
    {
      "cell_type": "code",
      "source": [
        "funcaoSemNome('Lucas', 2000)"
      ],
      "metadata": {
        "id": "OCFelOQ08s4T"
      },
      "execution_count": null,
      "outputs": []
    },
    {
      "cell_type": "code",
      "source": [
        "#O (*) é colocado para receber varios parametros\n",
        "def somaNotas(*notas):\n",
        "  soma = 0\n",
        "  for nota in notas:\n",
        "    soma += nota \n",
        "  print(soma)\n",
        "\n",
        "somaNotas(6, 3, 2, 8, 5, 9)"
      ],
      "metadata": {
        "colab": {
          "base_uri": "https://localhost:8080/"
        },
        "id": "RNxR4W1X9Twd",
        "outputId": "52ca60ff-d2ec-408b-e056-d451d93915fa"
      },
      "execution_count": 86,
      "outputs": [
        {
          "output_type": "stream",
          "name": "stdout",
          "text": [
            "33\n"
          ]
        }
      ]
    },
    {
      "cell_type": "code",
      "source": [
        "#Valor de parametro padrão\n",
        "def nacionalidade(country = 'Cuba'):\n",
        "  print('Eu nasci em: '+ country)"
      ],
      "metadata": {
        "id": "7nnC_RsIARAN"
      },
      "execution_count": 77,
      "outputs": []
    },
    {
      "cell_type": "code",
      "source": [
        "  nacionalidade('Brasil')\n",
        "  nacionalidade('Venezuela')"
      ],
      "metadata": {
        "id": "aJGXwJTbBWOl"
      },
      "execution_count": null,
      "outputs": []
    },
    {
      "cell_type": "code",
      "source": [
        "  def imc(peso, altura):\n",
        "    return peso/altura**2"
      ],
      "metadata": {
        "id": "9ejNXBzNBcEa"
      },
      "execution_count": 81,
      "outputs": []
    },
    {
      "cell_type": "code",
      "source": [
        "  imc(65, 1.75)"
      ],
      "metadata": {
        "id": "dX-nX_-KB8xS"
      },
      "execution_count": null,
      "outputs": []
    },
    {
      "cell_type": "code",
      "source": [
        "def situacaoPeso(imc):\n",
        "  if(imc < 18.5):\n",
        "    print('Abaixo do peso normal')\n",
        "  elif(imc < 24.9):\n",
        "    print('Peso normal')\n",
        "  else:\n",
        "    print('Obesidade')"
      ],
      "metadata": {
        "id": "ylyLod-jD_mg"
      },
      "execution_count": 87,
      "outputs": []
    },
    {
      "cell_type": "code",
      "source": [
        "#Soma\n",
        "def soma(a, b):\n",
        "  return a+b\n",
        "#subtração\n",
        "def subtracao(a, b):\n",
        "  return a-b\n",
        "#multiplicação\n",
        "def mutiplicacao(a, b):\n",
        "  return a*b\n",
        "#divisão\n",
        "def divisao(a, b):\n",
        "  return a/b"
      ],
      "metadata": {
        "id": "PPX9sRtPEnYK"
      },
      "execution_count": 105,
      "outputs": []
    },
    {
      "cell_type": "code",
      "source": [
        "soma(10, 20)"
      ],
      "metadata": {
        "id": "8vs6yUxJFhAA"
      },
      "execution_count": null,
      "outputs": []
    }
  ]
}