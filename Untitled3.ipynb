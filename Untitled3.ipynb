{
  "nbformat": 4,
  "nbformat_minor": 0,
  "metadata": {
    "colab": {
      "provenance": [],
      "authorship_tag": "ABX9TyM4Lcie+/zHTO62p9+vBATM",
      "include_colab_link": true
    },
    "kernelspec": {
      "name": "python3",
      "display_name": "Python 3"
    },
    "language_info": {
      "name": "python"
    }
  },
  "cells": [
    {
      "cell_type": "markdown",
      "metadata": {
        "id": "view-in-github",
        "colab_type": "text"
      },
      "source": [
        "<a href=\"https://colab.research.google.com/github/lviniciuz/Aula-Junio/blob/main/Untitled3.ipynb\" target=\"_parent\"><img src=\"https://colab.research.google.com/assets/colab-badge.svg\" alt=\"Open In Colab\"/></a>"
      ]
    },
    {
      "cell_type": "code",
      "execution_count": null,
      "metadata": {
        "id": "ksknyOpSyEig"
      },
      "outputs": [],
      "source": [
        "#Escreva dois algoritimos inteiros que na tela mostra o maior!\n",
        "a = int(input('insira o valor um: '))\n",
        "b = int(input('insira o valor dois: '))\n",
        "  \n",
        "if(a > b):\n",
        "  print(a), print('é A')\n",
        "else:\n",
        "  print(b), print('é B')"
      ]
    }
  ]
}