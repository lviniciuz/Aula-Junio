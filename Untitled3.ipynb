{
  "nbformat": 4,
  "nbformat_minor": 0,
  "metadata": {
    "colab": {
      "provenance": [],
      "authorship_tag": "ABX9TyMbIs21+U+8phyrHlvFqD4i",
      "include_colab_link": true
    },
    "kernelspec": {
      "name": "python3",
      "display_name": "Python 3"
    },
    "language_info": {
      "name": "python"
    }
  },
  "cells": [
    {
      "cell_type": "markdown",
      "metadata": {
        "id": "view-in-github",
        "colab_type": "text"
      },
      "source": [
        "<a href=\"https://colab.research.google.com/github/lviniciuz/Aula-Junio/blob/main/Untitled3.ipynb\" target=\"_parent\"><img src=\"https://colab.research.google.com/assets/colab-badge.svg\" alt=\"Open In Colab\"/></a>"
      ]
    },
    {
      "cell_type": "code",
      "source": [
        "#listas de outros tipos\n",
        "alunos = ['Mariinha', 'Luizanga', 'Igorete', 'frozinha', 'Yaga']\n",
        "alunos"
      ],
      "metadata": {
        "colab": {
          "base_uri": "https://localhost:8080/"
        },
        "id": "YWBrgLDa-MTM",
        "outputId": "94f30890-dc6b-4dbe-ca7d-43698f230690"
      },
      "execution_count": 36,
      "outputs": [
        {
          "output_type": "execute_result",
          "data": {
            "text/plain": [
              "['Mariinha', 'Luizanga', 'Igorete', 'frozinha', 'Yaga']"
            ]
          },
          "metadata": {},
          "execution_count": 36
        }
      ]
    },
    {
      "cell_type": "code",
      "source": [
        "#alterar o valor de itens da lista\n",
        "alunos[3] = 'Ronaldo'\n",
        "alunos"
      ],
      "metadata": {
        "colab": {
          "base_uri": "https://localhost:8080/"
        },
        "id": "KoE6M83J-gD4",
        "outputId": "522b88b7-e13a-4e06-e4a1-593fe7db4a5c"
      },
      "execution_count": 37,
      "outputs": [
        {
          "output_type": "execute_result",
          "data": {
            "text/plain": [
              "['Mariinha', 'Luizanga', 'Igorete', 'Ronaldo', 'Yaga']"
            ]
          },
          "metadata": {},
          "execution_count": 37
        }
      ]
    },
    {
      "cell_type": "code",
      "source": [
        "#inserir valores na lista .append()\n",
        "alunos.append('Aderval')\n",
        "alunos"
      ],
      "metadata": {
        "colab": {
          "base_uri": "https://localhost:8080/"
        },
        "id": "MDAd-3zV_Ngs",
        "outputId": "cac8f48d-6ad0-49a0-f115-1c3f2258900f"
      },
      "execution_count": 38,
      "outputs": [
        {
          "output_type": "execute_result",
          "data": {
            "text/plain": [
              "['Mariinha', 'Luizanga', 'Igorete', 'Ronaldo', 'Yaga', 'Aderval']"
            ]
          },
          "metadata": {},
          "execution_count": 38
        }
      ]
    },
    {
      "cell_type": "code",
      "source": [
        "alunos.append(input('Digite um nome: '))"
      ],
      "metadata": {
        "colab": {
          "base_uri": "https://localhost:8080/"
        },
        "id": "ijoHfmLu_nij",
        "outputId": "8ba34e47-1574-4b1b-977e-998ee9285196"
      },
      "execution_count": 45,
      "outputs": [
        {
          "name": "stdout",
          "output_type": "stream",
          "text": [
            "Digite um nome: benedito\n"
          ]
        }
      ]
    },
    {
      "cell_type": "code",
      "source": [
        "alunos"
      ],
      "metadata": {
        "colab": {
          "base_uri": "https://localhost:8080/"
        },
        "id": "gtDR32va_9LR",
        "outputId": "5bb2289b-7c56-40fe-934c-2fe15e8ea539"
      },
      "execution_count": 46,
      "outputs": [
        {
          "output_type": "execute_result",
          "data": {
            "text/plain": [
              "['Mariinha',\n",
              " 'Luizanga',\n",
              " 'Igorete',\n",
              " 'Ronaldo',\n",
              " 'Yaga',\n",
              " 'Aderval',\n",
              " 'Kazemira',\n",
              " 'benedito']"
            ]
          },
          "metadata": {},
          "execution_count": 46
        }
      ]
    }
  ]
}