{
  "nbformat": 4,
  "nbformat_minor": 0,
  "metadata": {
    "colab": {
      "provenance": [],
      "authorship_tag": "ABX9TyOXaYlyMVggI95GpbFUWkkI",
      "include_colab_link": true
    },
    "kernelspec": {
      "name": "python3",
      "display_name": "Python 3"
    },
    "language_info": {
      "name": "python"
    }
  },
  "cells": [
    {
      "cell_type": "markdown",
      "metadata": {
        "id": "view-in-github",
        "colab_type": "text"
      },
      "source": [
        "<a href=\"https://colab.research.google.com/github/lviniciuz/Aula-Junio/blob/main/Aula03_Pablo.ipynb\" target=\"_parent\"><img src=\"https://colab.research.google.com/assets/colab-badge.svg\" alt=\"Open In Colab\"/></a>"
      ]
    },
    {
      "cell_type": "code",
      "execution_count": null,
      "metadata": {
        "id": "ftdFalF7i871"
      },
      "outputs": [],
      "source": [
        "nome = input ('Digita seu nome: ')\n",
        "print ('Olá, '+nome)"
      ]
    },
    {
      "cell_type": "code",
      "source": [
        "#codigo para saber idade:\n",
        "anoNascim = int(input('Digite ano de nascimento: '))\n",
        "print('Sua idade é: ',2023-anoNascim)"
      ],
      "metadata": {
        "id": "ImwZfzElnpby"
      },
      "execution_count": null,
      "outputs": []
    },
    {
      "cell_type": "code",
      "source": [
        "#Solicite a altura e o peso e retorne o imc\n",
        "#IMC = peso / altura**2\n",
        "peso = float(input('Digite peso: '))\n",
        "altura = float(input('Digite altura'))\n",
        "imc = peso/altura**2\n",
        "print('O IMC é:', imc)\n"
      ],
      "metadata": {
        "id": "LIL9fco2n9Lv"
      },
      "execution_count": null,
      "outputs": []
    },
    {
      "cell_type": "code",
      "source": [
        "#verificar se um número é par!\n",
        "num = int(input('Digite um número: '))\n",
        "if(num%2 == 0):\n",
        " print('O numero é par!')\n",
        "else:\n",
        "  print('O numero é impar')\n",
        "  "
      ],
      "metadata": {
        "id": "56c2Bn8HshF0"
      },
      "execution_count": null,
      "outputs": []
    },
    {
      "cell_type": "code",
      "source": [
        "\n",
        "#verificação logica\n",
        "a = 45\n",
        "b = 33\n",
        "print(a > b)\n",
        "print(a < b)\n",
        "print(a == b)\n",
        "print(a / b)"
      ],
      "metadata": {
        "id": "U1fElpB6u9_t"
      },
      "execution_count": null,
      "outputs": []
    },
    {
      "cell_type": "code",
      "source": [
        "#Em um campeonato de MMA, tem tres categorias por pessoa:\n",
        "#galo até 70kg\n",
        "#medio até 80kg\n",
        "#meio pesado até 90kg\n",
        "peso = float(input('Digite o peso do atleta:'))\n",
        "if(peso <= 70):\n",
        "  print('O atleta é Galo')\n",
        "elif(peso <= 80):\n",
        "  print('O atleta é Médio')\n",
        "else:\n",
        "  print('O atleta é Meio pesado')"
      ],
      "metadata": {
        "id": "3xK0fl8byzJF"
      },
      "execution_count": null,
      "outputs": []
    },
    {
      "cell_type": "code",
      "source": [
        "peso = float(input('Digite peso: '))\n",
        "altura = float(input('Digite altura'))\n",
        "imc = peso/altura**2\n",
        "if(imc < 18.5):\n",
        "  print('Abaixo do peso')\n",
        "elif(imc <=24.9):\n",
        "   print('Peso normal')\n",
        "elif(imc <=30): \n",
        "  print('excesso de peso')\n",
        "elif(imc <=35):\n",
        "  print('Obesidade classe 1')\n",
        "else:\n",
        "  print('Obesidade classe 2')\n",
        "\n",
        "print('O IMC é:', imc)"
      ],
      "metadata": {
        "id": "2J7ShcNx1E7z"
      },
      "execution_count": null,
      "outputs": []
    }
  ]
}