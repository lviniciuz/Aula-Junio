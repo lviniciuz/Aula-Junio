{
  "nbformat": 4,
  "nbformat_minor": 0,
  "metadata": {
    "colab": {
      "provenance": [],
      "authorship_tag": "ABX9TyPBdosj0vvhyDTG+wa/D7u0",
      "include_colab_link": true
    },
    "kernelspec": {
      "name": "python3",
      "display_name": "Python 3"
    },
    "language_info": {
      "name": "python"
    }
  },
  "cells": [
    {
      "cell_type": "markdown",
      "metadata": {
        "id": "view-in-github",
        "colab_type": "text"
      },
      "source": [
        "<a href=\"https://colab.research.google.com/github/lviniciuz/Aulas-faculdade/blob/main/04_05_23.ipynb\" target=\"_parent\"><img src=\"https://colab.research.google.com/assets/colab-badge.svg\" alt=\"Open In Colab\"/></a>"
      ]
    },
    {
      "cell_type": "code",
      "execution_count": null,
      "metadata": {
        "id": "YKrVOmDu4g3w"
      },
      "outputs": [],
      "source": [
        "lista = ['Zé', 'Tião', 'Joaquim']\n",
        "lista.append('Júlia')\n",
        "\n",
        "#vários valores\n",
        "outrosNomes = ['Zabé', 'Ana', 'Maria']\n",
        "lista.extend(outrosNomes)\n",
        "lista"
      ]
    },
    {
      "cell_type": "code",
      "source": [
        "numeros = [3, 5, 7, 1, 9, 4]\n",
        "numeros.remove(numeros[0])\n",
        "\n",
        "numeros.pop()\n",
        "\n",
        "numeros"
      ],
      "metadata": {
        "id": "DjnmH7di9ugZ"
      },
      "execution_count": null,
      "outputs": []
    },
    {
      "cell_type": "code",
      "source": [
        "numeros = [2, 4, 6, 9]\n",
        "nova_lista = list(map(lambda x : x*2, numeros))\n",
        "nova_lista"
      ],
      "metadata": {
        "id": "eEzqIJpXCeXD"
      },
      "execution_count": null,
      "outputs": []
    },
    {
      "cell_type": "code",
      "source": [
        "numDivi = list(map(lambda x : x/3, numeros))\n",
        "numDivi"
      ],
      "metadata": {
        "id": "27FZbPw7DXCb"
      },
      "execution_count": null,
      "outputs": []
    },
    {
      "cell_type": "code",
      "source": [
        "numSoma = list(map(lambda x : x+1, numeros))\n",
        "numSoma"
      ],
      "metadata": {
        "id": "cTXi5v28EFni"
      },
      "execution_count": null,
      "outputs": []
    },
    {
      "cell_type": "code",
      "source": [
        "#retorne uma lista com os nomes com mais de 5 caracteres\n",
        "nomes = ['José', 'João', 'Sebastião', 'Angélica', 'Pedro']\n",
        "new_list = list(filter(lambda x : len(x)>5, nomes))\n",
        "new_list"
      ],
      "metadata": {
        "id": "CSp9vBuXFHWC"
      },
      "execution_count": null,
      "outputs": []
    },
    {
      "cell_type": "code",
      "source": [
        "#retorne uma lista com os numeros maiores de 6\n",
        "listnot = [3.5, 7, 9, 10, 4, 1.8]\n",
        "listnn = list(filter(lambda x : (x)>6, listnot))\n",
        "listnn"
      ],
      "metadata": {
        "colab": {
          "base_uri": "https://localhost:8080/"
        },
        "id": "PH_ZvBK7GDUg",
        "outputId": "33ccfd81-32d3-49f8-d04b-6ccd629b9fdc"
      },
      "execution_count": null,
      "outputs": [
        {
          "output_type": "execute_result",
          "data": {
            "text/plain": [
              "[7, 9, 10]"
            ]
          },
          "metadata": {},
          "execution_count": 49
        }
      ]
    },
    {
      "cell_type": "code",
      "source": [
        "#retorar a lista com os valores ao quadrado\n",
        "lnumeros = [3, 5, 7, 23, 4, 12]\n",
        "lnnumeros = list(map(lambda x : x**2, lnumeros))\n",
        "lnnumeros"
      ],
      "metadata": {
        "id": "bW7OqFweIu6r"
      },
      "execution_count": null,
      "outputs": []
    },
    {
      "cell_type": "code",
      "source": [
        "#saber quantas letras tem cada nome:\n",
        "lista = ['Ana', 'Jorge', 'Matheus', 'Julia', 'Isabela', 'Pietro']\n",
        "llinst = list(map(lambda x : len(x), lista))\n",
        "llinst"
      ],
      "metadata": {
        "id": "cj-F4BQTJnNE"
      },
      "execution_count": null,
      "outputs": []
    },
    {
      "cell_type": "code",
      "source": [
        "#somente retornar numeros pares\n",
        "numeros = [23, 45, 76, 22, 12, 47, 89, 234, 54]\n",
        "nnumeros = list(map(lambda x : x%2==0, numeros))\n",
        "nnumeros"
      ],
      "metadata": {
        "id": "RYk0_L37LAiN"
      },
      "execution_count": null,
      "outputs": []
    },
    {
      "cell_type": "code",
      "source": [
        "#filtrar nome que começa com 'A'\n",
        "nomes = ['João', 'Pedro', 'Regina', 'Thiago', 'Amelia', 'Antonio', 'Arnold']\n",
        "nnomes = list(filter(lambda x : (x[0]=='A'), nomes))\n",
        "nnomes"
      ],
      "metadata": {
        "id": "vzoq_cJ-MNZ3"
      },
      "execution_count": null,
      "outputs": []
    },
    {
      "cell_type": "code",
      "source": [
        "nomes = ['Ana', 'Pedro', 'Osvaldo', 'Esmeralda', 'Tião', 'Renato']\n",
        "nnomes = list(filter(lambda x : x[0]in'AEIOU', nomes))\n",
        "nnomes"
      ],
      "metadata": {
        "colab": {
          "base_uri": "https://localhost:8080/"
        },
        "id": "RWsft3R6NjFy",
        "outputId": "1e6175fa-9bb2-4c96-f635-c43d648cbf5f"
      },
      "execution_count": null,
      "outputs": [
        {
          "output_type": "execute_result",
          "data": {
            "text/plain": [
              "['Ana', 'Osvaldo', 'Esmeralda']"
            ]
          },
          "metadata": {},
          "execution_count": 81
        }
      ]
    }
  ]
}